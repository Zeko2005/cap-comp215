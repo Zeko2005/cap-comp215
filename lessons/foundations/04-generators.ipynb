{
  "cells": [
    {
      "cell_type": "markdown",
      "source": [
        "# Python Foundations:  Generators\n",
        "New Python syntax / concepts - generator functions and expressions\n",
        "\n",
        "Foundations notebook available on Github from the powderflask/cap-comp215 repository.\n",
        "As usual, the first code block just imports the modules we will use."
      ],
      "metadata": {
        "collapsed": false,
        "id": "b440028b0e4da231"
      },
      "id": "b440028b0e4da231"
    },
    {
      "cell_type": "code",
      "execution_count": 15,
      "outputs": [],
      "source": [
        "import math\n",
        "from pprint import pprint\n",
        "import random"
      ],
      "metadata": {
        "ExecuteTime": {
          "end_time": "2024-01-01T21:46:43.015316Z",
          "start_time": "2024-01-01T21:46:43.010889Z"
        },
        "id": "2d782bf8ed66d7ed"
      },
      "id": "2d782bf8ed66d7ed"
    },
    {
      "cell_type": "markdown",
      "source": [
        "\n",
        "## Generator expressions\n",
        "A `generator` is a series of values that may only be accessed in sequence, from the start.\n",
        "\n",
        "Once your algorithm \"consumes\" a value from the generator, it is gone and cannot be retrieved again.\n",
        "Thus, unlike a `list`, a `generator` can have infinite length - we will see some examples of this later.\n",
        "\n",
        "These properties allow generators to be very efficient - they are generally designed to perform any computation required for each value \"just in time\", and thus consume almost no memory since the next data value doesn't actually exist until it is \"consumed\".  That's confusing!  Let's look at an example...\n",
        "\n",
        "A `generator expression` looks like a list comprehension, but uses parentheses (round brackets):"
      ],
      "metadata": {
        "collapsed": false,
        "id": "6a2d10bd5d4052ab"
      },
      "id": "6a2d10bd5d4052ab"
    },
    {
      "cell_type": "code",
      "execution_count": 2,
      "outputs": [
        {
          "output_type": "stream",
          "name": "stdout",
          "text": [
            "<generator object <genexpr> at 0x7dacdb012420>\n",
            "(0, 1, 2)\n",
            "(1, 2, 3)\n",
            "[(2, 3, 4), (3, 4, 5), (4, 5, 6), (5, 6, 7), (6, 7, 8), (7, 8, 9), (8, 9, 10)]\n",
            "[]\n"
          ]
        }
      ],
      "source": [
        "# 3-tuples of adjacent integers...\n",
        "neighbours = ((i-1, i, i+1) for i in range(1, 10))\n",
        "print(neighbours)\n",
        "# we can pull one item at a time out of a generator using the built-in next() function\n",
        "print(next(neighbours))\n",
        "print(next(neighbours))\n",
        "# we can turn a generator into a list to examine the rest of its elements (though this somewhat defeats the purpose!)\n",
        "print(list(neighbours))\n",
        "# Notice: once the \"stream\" has flowed past, it is empty - there is no way to \"replenish\" it.\n",
        "print(list(neighbours))"
      ],
      "metadata": {
        "ExecuteTime": {
          "end_time": "2024-01-01T21:46:43.029858Z",
          "start_time": "2024-01-01T21:46:43.019931Z"
        },
        "id": "dca2fe6b5a89c206",
        "outputId": "8f2cf9f8-0465-4365-8b7d-d4038358fab1",
        "colab": {
          "base_uri": "https://localhost:8080/"
        }
      },
      "id": "dca2fe6b5a89c206"
    },
    {
      "cell_type": "markdown",
      "source": [
        "## Generator Functions\n",
        "Generator expressions are very powerful when used effectively, but are generally limited to simple map and filter operations.  If your generator needs a more complex algorithm, or you want it to be more reusable, you can write it as a function.\n",
        "\n",
        "Here is the same generator written as a function:"
      ],
      "metadata": {
        "collapsed": false,
        "id": "80830e92384112b3"
      },
      "id": "80830e92384112b3"
    },
    {
      "cell_type": "code",
      "execution_count": 11,
      "outputs": [
        {
          "output_type": "stream",
          "name": "stdout",
          "text": [
            "<generator object get_neighbours at 0x7dacbe9be960>\n",
            "(0, 1, 2)\n",
            "(1, 2, 3)\n",
            "[(2, 3, 4), (3, 4, 5), (4, 5, 6), (5, 6, 7), (6, 7, 8), (7, 8, 9), (8, 9, 10)]\n",
            "(0, 1, 2)\n",
            "(1, 2, 3)\n",
            "(2, 3, 4)\n",
            "(3, 4, 5)\n",
            "(4, 5, 6)\n",
            "(5, 6, 7)\n",
            "(6, 7, 8)\n",
            "(7, 8, 9)\n",
            "(8, 9, 10)\n"
          ]
        },
        {
          "output_type": "execute_result",
          "data": {
            "text/plain": [
              "<generator object get_neighbours at 0x7dacbe9be810>"
            ]
          },
          "metadata": {},
          "execution_count": 11
        }
      ],
      "source": [
        "def get_neighbours(n=10):\n",
        "  for i in range(1,n):\n",
        "    yield (i-1,i,i+1)\n",
        "\n",
        "neighs = get_neighbours()\n",
        "\n",
        "print(neighs)\n",
        "print(next(neighs))\n",
        "print(next(neighs))\n",
        "print(list(neighs))\n",
        "neighs2 = get_neighbours()\n",
        "list(neighs), list(neighs2)\n",
        "for neigh in get_neighbours():\n",
        "  print(neigh)\n",
        "get_neighbours()"
      ],
      "metadata": {
        "ExecuteTime": {
          "end_time": "2024-01-01T21:46:43.030245Z",
          "start_time": "2024-01-01T21:46:43.022449Z"
        },
        "id": "6b0a97d46538a205",
        "outputId": "344b658a-7f0a-479f-db74-ac5f6bb6b92b",
        "colab": {
          "base_uri": "https://localhost:8080/"
        }
      },
      "id": "6b0a97d46538a205"
    },
    {
      "cell_type": "code",
      "source": [
        "l1 = (i**2 for i in range(10))\n",
        "l2 = (math.sqrt(j) for j in l1)\n",
        "l3 = (k/3 for k in l2)\n",
        "list(l3)"
      ],
      "metadata": {
        "id": "WhMXQ0tDqCx8",
        "outputId": "6799dd0c-b9d3-4cb0-b25e-d38a791a328b",
        "colab": {
          "base_uri": "https://localhost:8080/"
        }
      },
      "id": "WhMXQ0tDqCx8",
      "execution_count": 12,
      "outputs": [
        {
          "output_type": "execute_result",
          "data": {
            "text/plain": [
              "[0.0,\n",
              " 0.3333333333333333,\n",
              " 0.6666666666666666,\n",
              " 1.0,\n",
              " 1.3333333333333333,\n",
              " 1.6666666666666667,\n",
              " 2.0,\n",
              " 2.3333333333333335,\n",
              " 2.6666666666666665,\n",
              " 3.0]"
            ]
          },
          "metadata": {},
          "execution_count": 12
        }
      ]
    },
    {
      "cell_type": "code",
      "source": [
        "def dice_rolls():\n",
        "  while True:\n",
        "    yield (random.randint(1,6), random.randint(1,6))\n",
        "\n",
        "for i, roll in zip(range(100), dice_rolls()):\n",
        "  print(f'{i}th roll:', roll)"
      ],
      "metadata": {
        "id": "k2aPGzSMsVGR",
        "outputId": "467f4fb2-f13f-4d01-8a4f-64ea37172ad8",
        "colab": {
          "base_uri": "https://localhost:8080/"
        }
      },
      "id": "k2aPGzSMsVGR",
      "execution_count": 17,
      "outputs": [
        {
          "output_type": "stream",
          "name": "stdout",
          "text": [
            "0th roll: (5, 6)\n",
            "1th roll: (1, 5)\n",
            "2th roll: (1, 5)\n",
            "3th roll: (3, 5)\n",
            "4th roll: (4, 3)\n",
            "5th roll: (5, 6)\n",
            "6th roll: (2, 5)\n",
            "7th roll: (6, 3)\n",
            "8th roll: (5, 3)\n",
            "9th roll: (4, 5)\n",
            "10th roll: (1, 4)\n",
            "11th roll: (4, 5)\n",
            "12th roll: (1, 5)\n",
            "13th roll: (2, 1)\n",
            "14th roll: (2, 6)\n",
            "15th roll: (6, 1)\n",
            "16th roll: (2, 6)\n",
            "17th roll: (5, 6)\n",
            "18th roll: (6, 1)\n",
            "19th roll: (1, 5)\n",
            "20th roll: (5, 4)\n",
            "21th roll: (1, 1)\n",
            "22th roll: (4, 5)\n",
            "23th roll: (4, 6)\n",
            "24th roll: (6, 1)\n",
            "25th roll: (2, 6)\n",
            "26th roll: (4, 1)\n",
            "27th roll: (4, 5)\n",
            "28th roll: (6, 3)\n",
            "29th roll: (3, 4)\n",
            "30th roll: (6, 2)\n",
            "31th roll: (6, 1)\n",
            "32th roll: (2, 3)\n",
            "33th roll: (4, 3)\n",
            "34th roll: (4, 1)\n",
            "35th roll: (2, 4)\n",
            "36th roll: (6, 3)\n",
            "37th roll: (5, 4)\n",
            "38th roll: (4, 6)\n",
            "39th roll: (4, 6)\n",
            "40th roll: (2, 1)\n",
            "41th roll: (5, 3)\n",
            "42th roll: (2, 4)\n",
            "43th roll: (4, 4)\n",
            "44th roll: (5, 1)\n",
            "45th roll: (4, 6)\n",
            "46th roll: (3, 3)\n",
            "47th roll: (2, 2)\n",
            "48th roll: (5, 4)\n",
            "49th roll: (3, 3)\n",
            "50th roll: (2, 4)\n",
            "51th roll: (1, 5)\n",
            "52th roll: (6, 3)\n",
            "53th roll: (6, 1)\n",
            "54th roll: (1, 6)\n",
            "55th roll: (4, 1)\n",
            "56th roll: (5, 3)\n",
            "57th roll: (2, 4)\n",
            "58th roll: (4, 4)\n",
            "59th roll: (6, 1)\n",
            "60th roll: (2, 1)\n",
            "61th roll: (6, 2)\n",
            "62th roll: (5, 4)\n",
            "63th roll: (5, 4)\n",
            "64th roll: (1, 2)\n",
            "65th roll: (1, 3)\n",
            "66th roll: (2, 4)\n",
            "67th roll: (5, 2)\n",
            "68th roll: (4, 3)\n",
            "69th roll: (6, 3)\n",
            "70th roll: (3, 5)\n",
            "71th roll: (3, 2)\n",
            "72th roll: (5, 3)\n",
            "73th roll: (1, 1)\n",
            "74th roll: (1, 2)\n",
            "75th roll: (4, 2)\n",
            "76th roll: (5, 3)\n",
            "77th roll: (5, 2)\n",
            "78th roll: (2, 6)\n",
            "79th roll: (2, 3)\n",
            "80th roll: (6, 3)\n",
            "81th roll: (4, 2)\n",
            "82th roll: (5, 1)\n",
            "83th roll: (6, 5)\n",
            "84th roll: (1, 5)\n",
            "85th roll: (5, 6)\n",
            "86th roll: (3, 4)\n",
            "87th roll: (2, 5)\n",
            "88th roll: (1, 3)\n",
            "89th roll: (4, 1)\n",
            "90th roll: (3, 6)\n",
            "91th roll: (5, 1)\n",
            "92th roll: (5, 5)\n",
            "93th roll: (2, 6)\n",
            "94th roll: (6, 5)\n",
            "95th roll: (1, 2)\n",
            "96th roll: (1, 4)\n",
            "97th roll: (6, 6)\n",
            "98th roll: (6, 2)\n",
            "99th roll: (4, 4)\n"
          ]
        }
      ]
    },
    {
      "cell_type": "markdown",
      "source": [
        "## Infinite Generator\n",
        "It is tempting to think of a generator as being similar to a list or tuple.  That's a bad model and will cause confusion and bugs.  A generator is best thought of as a \"stream of values\".  Each time you get the `next` value, you \"consume\" it, removing that value from the stream.   That's not how a list works at all!\n",
        "\n",
        "It is easiest to see the differences with an \"infinite\" generator - no such list can possibly exist, since the computer has a finite amount of memory in which to store the list.  But remember, generators a not stored in memory, their values are computed \"just in time\"!\n",
        "\n",
        "Some examples of \"infinite generators\" would be the digits of `pi`, or all prime numbers..."
      ],
      "metadata": {
        "collapsed": false,
        "id": "379e3dc97ca097d6"
      },
      "id": "379e3dc97ca097d6"
    },
    {
      "cell_type": "code",
      "execution_count": 4,
      "outputs": [],
      "source": [
        "# Example: a generator of prime numbers\n",
        "# Note: These naive algorithms are to illustrate generators only.  There are more efficient ways to generate prime numbers!\n",
        "\n",
        "def is_prime(n):\n",
        "    \"\"\" Return True iff integer n is a prime number \"\"\"\n",
        "    # Note\n",
        "    assert type(n) is int and n >= 2\n",
        "    for d in range (2, round(math.sqrt(n)) + 1):\n",
        "        if n % d == 0:\n",
        "            return False\n",
        "    return True\n",
        "\n",
        "assert is_prime(11)\n",
        "assert is_prime(37)\n",
        "assert not is_prime(9)"
      ],
      "metadata": {
        "ExecuteTime": {
          "end_time": "2024-01-01T21:46:43.030373Z",
          "start_time": "2024-01-01T21:46:43.026161Z"
        },
        "id": "46be5f43e9af213d"
      },
      "id": "46be5f43e9af213d"
    },
    {
      "cell_type": "code",
      "execution_count": 5,
      "outputs": [
        {
          "output_type": "stream",
          "name": "stdout",
          "text": [
            "('First 200 prime numbers: [2, 3, 5, 7, 11, 13, 17, 19, 23, 29, 31, 37, 41, '\n",
            " '43, 47, 53, 59, 61, 67, 71, 73, 79, 83, 89, 97, 101, 103, 107, 109, 113, '\n",
            " '127, 131, 137, 139, 149, 151, 157, 163, 167, 173, 179, 181, 191, 193, 197, '\n",
            " '199, 211, 223, 227, 229, 233, 239, 241, 251, 257, 263, 269, 271, 277, 281, '\n",
            " '283, 293, 307, 311, 313, 317, 331, 337, 347, 349, 353, 359, 367, 373, 379, '\n",
            " '383, 389, 397, 401, 409, 419, 421, 431, 433, 439, 443, 449, 457, 461, 463, '\n",
            " '467, 479, 487, 491, 499, 503, 509, 521, 523, 541, 547, 557, 563, 569, 571, '\n",
            " '577, 587, 593, 599, 601, 607, 613, 617, 619, 631, 641, 643, 647, 653, 659, '\n",
            " '661, 673, 677, 683, 691, 701, 709, 719, 727, 733, 739, 743, 751, 757, 761, '\n",
            " '769, 773, 787, 797, 809, 811, 821, 823, 827, 829, 839, 853, 857, 859, 863, '\n",
            " '877, 881, 883, 887, 907, 911, 919, 929, 937, 941, 947, 953, 967, 971, 977, '\n",
            " '983, 991, 997, 1009, 1013, 1019, 1021, 1031, 1033, 1039, 1049, 1051, 1061, '\n",
            " '1063, 1069, 1087, 1091, 1093, 1097, 1103, 1109, 1117, 1123, 1129, 1151, '\n",
            " '1153, 1163, 1171, 1181, 1187, 1193, 1201, 1213, 1217, 1223]')\n",
            "'Sum of first 200 prime numbers: 111587'\n"
          ]
        }
      ],
      "source": [
        "def primes():\n",
        "    \"\"\" An infinite stream of prime numbers.  Warning: do not try to make a list out of this!! \"\"\"\n",
        "    n = 2\n",
        "    while True:\n",
        "        while not is_prime(n):\n",
        "            n+=1\n",
        "        yield n\n",
        "        n+=1\n",
        "\n",
        "p = primes()\n",
        "N = 200\n",
        "pprint(f\"First {N} prime numbers: {[next(p) for _ in range(N)]}\")\n",
        "# A generator function can be re-used by calling it again...\n",
        "pprint(f\"Sum of first {N} prime numbers: {sum(p for p,_ in zip(primes(), range(N)))}\")"
      ],
      "metadata": {
        "ExecuteTime": {
          "end_time": "2024-01-01T21:46:43.040761Z",
          "start_time": "2024-01-01T21:46:43.034275Z"
        },
        "id": "9b7cf89ad542cc42",
        "outputId": "f1382d63-a82f-4aea-ec6e-56c2fdb4a33a",
        "colab": {
          "base_uri": "https://localhost:8080/"
        }
      },
      "id": "9b7cf89ad542cc42"
    },
    {
      "cell_type": "markdown",
      "source": [
        "### Generators everywhere!!!\n",
        "Once you learn to see them, you'll spot generators everywhere (at least in well-written code).\n",
        "\n",
        "In the last line of code from the example above, there are **4** generators!\n",
        "\n",
        "    sum(p for p,_ in zip(primes(), range(N)))\n",
        "\n",
        "1. `(p for p,_ in ....)`  a simple generator expression\n",
        "2. `zip(...)`  zip is a generator function that returns n-tuples from its input sequences\n",
        "3. `range(...)`  range is also a generator function that returns integers in a series\n",
        "4. `primes()`  of course, the generator function we just wrote."
      ],
      "metadata": {
        "collapsed": false,
        "id": "1bc20530589240c2"
      },
      "id": "1bc20530589240c2"
    },
    {
      "cell_type": "code",
      "execution_count": 5,
      "outputs": [],
      "source": [],
      "metadata": {
        "ExecuteTime": {
          "end_time": "2024-01-01T21:46:43.040972Z",
          "start_time": "2024-01-01T21:46:43.036342Z"
        },
        "id": "21075c9799e585d5"
      },
      "id": "21075c9799e585d5"
    }
  ],
  "metadata": {
    "kernelspec": {
      "display_name": "Python 3",
      "language": "python",
      "name": "python3"
    },
    "language_info": {
      "codemirror_mode": {
        "name": "ipython",
        "version": 2
      },
      "file_extension": ".py",
      "mimetype": "text/x-python",
      "name": "python",
      "nbconvert_exporter": "python",
      "pygments_lexer": "ipython2",
      "version": "2.7.6"
    },
    "colab": {
      "provenance": []
    }
  },
  "nbformat": 4,
  "nbformat_minor": 5
}