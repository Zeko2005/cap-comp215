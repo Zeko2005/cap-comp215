{
  "nbformat": 4,
  "nbformat_minor": 0,
  "metadata": {
    "colab": {
      "provenance": [],
      "authorship_tag": "ABX9TyNt3Kn+QWVNsWtugQNenm37",
      "include_colab_link": true
    },
    "kernelspec": {
      "name": "python3",
      "display_name": "Python 3"
    },
    "language_info": {
      "name": "python"
    }
  },
  "cells": [
    {
      "cell_type": "markdown",
      "metadata": {
        "id": "view-in-github",
        "colab_type": "text"
      },
      "source": [
        "<a href=\"https://colab.research.google.com/github/Zeko2005/cap-comp215/blob/main/Project2.ipynb\" target=\"_parent\"><img src=\"https://colab.research.google.com/assets/colab-badge.svg\" alt=\"Open In Colab\"/></a>"
      ]
    },
    {
      "cell_type": "markdown",
      "source": [
        "##Project2: Langton's Ant\n",
        "Name: Ziad Elbadry\n",
        "\n",
        "Last Updated: 4/1/2024"
      ],
      "metadata": {
        "id": "2-km-rRj4b6U"
      }
    },
    {
      "cell_type": "code",
      "execution_count": 2,
      "metadata": {
        "id": "FPNUcUxYqKud"
      },
      "outputs": [],
      "source": [
        "%matplotlib inline\n",
        "\n",
        "import time\n",
        "from pprint import pprint\n",
        "\n",
        "import matplotlib\n",
        "import matplotlib.pyplot as plt\n",
        "import numpy as np\n",
        "from matplotlib import animation\n",
        "from scipy.signal import correlate2d\n",
        "import random\n",
        "from timeit import timeit\n",
        "\n",
        "# Configure matplotlib's animation library to work in the browser.\n",
        "matplotlib.rc('animation', html='jshtml')"
      ]
    },
    {
      "cell_type": "code",
      "source": [
        "tab20_mod = matplotlib.colormaps['tab20']\n",
        "tab20_mod.colors = ((1,1,1,1), *tab20_mod.colors[1:])\n",
        "\n",
        "def plot_2d_array(array, axes=None, title='', cmap=tab20_mod, **options):\n",
        "    \"\"\"\n",
        "    Plot the 2D array as an image on the given axes  1's will be dark blue, 0's will be light blue.\n",
        "\n",
        "    :param axes: the axes to plot on, or None to use the `plt.gca()` (current axes)\n",
        "    :param options: keyword arguments passed directly to `plt.imshow()`\n",
        "           see https://matplotlib.org/stable/api/_as_gen/matplotlib.axes.Axes.imshow.html\n",
        "    \"\"\"\n",
        "    axes = axes or plt.gca()  # If not axes are provided, draw on current axes\n",
        "    axes.set_title(title)\n",
        "    # Turn off axes labels and tick marks\n",
        "    axes.tick_params(axis='both', which='both', bottom=False, top=False, left=False, right=False ,\n",
        "                     labelbottom=False, labeltop=False, labelleft=False, labelright=False,)\n",
        "    # Defaults for displaying a \"matrix\" with hard-pixel boundaries and (0,0) at top-left\n",
        "    options = {**dict(interpolation='nearest', origin='upper'), **options}\n",
        "    axes.imshow(array, cmap=cmap, **options)"
      ],
      "metadata": {
        "id": "qgxTnInBgH9a"
      },
      "execution_count": 3,
      "outputs": []
    },
    {
      "cell_type": "code",
      "source": [
        "class Animation2D:\n",
        "    \"\"\"\n",
        "      Animates any 2D model with a step() method and a draw() method, using matplotlib\n",
        "      model.step() should take no parameters - just step the model forward one step.\n",
        "      model.draw() should take 2 parameters, the matpltolib axes to draw on and an integer step number\n",
        "\n",
        "      See https://www.allendowney.com/blog/2019/07/25/matplotlib-animation-in-jupyter/\n",
        "          for a discussion of the pros and cons of various animation techniques in jupyter notebooks\n",
        "    \"\"\"\n",
        "\n",
        "    def __init__(self, model, frames=50, steps_per_frame=1, figsize=(8, 8)):\n",
        "        \"\"\"\n",
        "        :param model: the simulation object to animate, with step() and draw(axes, step) methods\n",
        "        :param frames: number of animation frames to generate\n",
        "        \"\"\"\n",
        "        self.model = model\n",
        "        self.frames = frames\n",
        "        self.steps_per_frame = steps_per_frame\n",
        "        self.fig, self.ax = plt.subplots(figsize=figsize)\n",
        "\n",
        "    def animation_step(self, step):\n",
        "        \"\"\" Step the model forward and draw the plot \"\"\"\n",
        "        if step > 0:\n",
        "            for _ in range(self.steps_per_frame):\n",
        "                self.model.step()\n",
        "        self.model.draw(self.ax, step=step * self.steps_per_frame)\n",
        "\n",
        "    def show(self):\n",
        "        \"\"\" return the matplotlib animation object, ready for display \"\"\"\n",
        "        anim = animation.FuncAnimation(self.fig, self.animation_step, frames=self.frames)\n",
        "        plt.close()  # this ensures the last frame is not shown as a separate plot\n",
        "        return anim\n",
        "\n",
        "    def animate(self, interval=None):\n",
        "        \"\"\" Animate the model simulation directly in the notebook display block \"\"\"\n",
        "        from IPython.display import clear_output\n",
        "        try:\n",
        "            for i in range(self.frames):\n",
        "                clear_output(wait=True)  # clear the IPython display\n",
        "                self.ax.clear()  # clear old image from the axes (fixes a performance issue)\n",
        "                plt.figure(self.fig)  # add the figure back to pyplot ** sigh **\n",
        "                self.animation_step(i)\n",
        "                plt.show()  # show the current animation frame (pyplot then closes and throws away figure ** sigh **)\n",
        "                if interval:\n",
        "                    time.sleep(interval)\n",
        "        except KeyboardInterrupt:\n",
        "            pass"
      ],
      "metadata": {
        "id": "w8T-MDtWfnnJ"
      },
      "execution_count": 4,
      "outputs": []
    },
    {
      "cell_type": "code",
      "source": [
        "mat = np.array([1,2])\n",
        "mat[(0)]"
      ],
      "metadata": {
        "colab": {
          "base_uri": "https://localhost:8080/"
        },
        "id": "pVnH5bLt3x8g",
        "outputId": "ddf0c084-4acc-45c0-b296-708db08ab5b4"
      },
      "execution_count": 5,
      "outputs": [
        {
          "output_type": "execute_result",
          "data": {
            "text/plain": [
              "1"
            ]
          },
          "metadata": {},
          "execution_count": 5
        }
      ]
    },
    {
      "cell_type": "markdown",
      "source": [
        "##Making an ant class"
      ],
      "metadata": {
        "id": "mVeJgl5g4G8N"
      }
    },
    {
      "cell_type": "code",
      "source": [
        "class Ant:\n",
        "    \"\"\" 2D Cellular Automaton that simulates an Ant digging and undigging the ground \"\"\"\n",
        "    # Defines directions and the states of the cells\n",
        "    NOTDUG = 0\n",
        "    DUG = 1\n",
        "    RIGHT = np.array([0,1])\n",
        "    LEFT = np.array([0,-1])\n",
        "    UP = np.array([-1,0])\n",
        "    DOWN = np.array([1,0])\n",
        "    DIRECTIONS = [RIGHT,UP,LEFT,DOWN]\n",
        "\n",
        "    # Define a colour map that maps each cell state to an intuitive colour.\n",
        "    cmap = [(1, 1, 1), (0, 0, 0)]\n",
        "    cmap[NOTDUG] = (1, 1, 1)  # white\n",
        "    cmap[DUG] = (0, 0, 0)  # black\n",
        "    ground_colour_map = matplotlib.colors.ListedColormap(cmap)\n",
        "\n",
        "\n",
        "\n",
        "    def __init__(self, n, q=0.8):\n",
        "        \"\"\"Initializes the model.\n",
        "        n: number of rows and columns, coordinate specifies where the ant spawns\n",
        "        , direction is where the ant is facing, state is the ground\n",
        "        \"\"\"\n",
        "        self.dim = n\n",
        "        self.coordinate = np.array([int(self.dim/2), int(self.dim/2)])\n",
        "        self.direction = self.RIGHT\n",
        "        self.state = np.zeros((self.dim, self.dim))\n",
        "\n",
        "    def step(self):\n",
        "        \"\"\"Executes one time step, applying the CA rules to move the ant and turn it.\"\"\"\n",
        "        self.edges()\n",
        "        self.coordinate = self.coordinate + self.direction\n",
        "        self.state[tuple(self.coordinate)] = (self.state[tuple(self.coordinate)] + 1) % 2\n",
        "        self.turn()\n",
        "\n",
        "    def edges(self):\n",
        "        if self.coordinate[(1)] == self.dim - 1:\n",
        "          self.direction = self.LEFT\n",
        "        elif self.coordinate[(1)] == 0:\n",
        "          self.direction = self.RIGHT\n",
        "        elif self.coordinate[(0)] == self.dim - 1:\n",
        "          self.direction = self.UP\n",
        "        elif self.coordinate[(0)] == 0:\n",
        "          self.direction = self.DOWN\n",
        "\n",
        "    def turn(self, p=0.5):\n",
        "      \"\"\"Changes the direction of the ant with a probability p.\"\"\"\n",
        "      # This code was modified by AI because I faced some errors but I came up with the basic idea\n",
        "\n",
        "      for i, direction in enumerate(self.DIRECTIONS):\n",
        "        if np.array_equal(self.direction, direction):\n",
        "          new_index = (i + 1) % len(self.DIRECTIONS)\n",
        "          break  # Exit the loop after finding the match\n",
        "\n",
        "      # Optional: Handle cases where self.direction doesn't match any in DIRECTIONS\n",
        "      # (This might indicate an error or unexpected state)\n",
        "\n",
        "      if p >= random.random():\n",
        "        self.direction = self.DIRECTIONS[new_index]\n",
        "      else:\n",
        "        new_index = (new_index - 1) % len(self.DIRECTIONS)\n",
        "        self.direction = self.DIRECTIONS[new_index]\n",
        "\n",
        "    def draw(self, axes=None, step=''):\n",
        "        \"\"\"Draws the CA cells using the ground colour map so values are coloured intuitively.\"\"\"\n",
        "        axes = axes or plt.gca()\n",
        "        title = f'Ant Land:{step}'\n",
        "        plot_2d_array(self.state, axes=axes, title=title,\n",
        "                      cmap=self.ground_colour_map, vmin=0, vmax=len(self.ground_colour_map.colors))"
      ],
      "metadata": {
        "id": "WPkqhLlosiIX"
      },
      "execution_count": 6,
      "outputs": []
    },
    {
      "cell_type": "code",
      "source": [
        "def make_ants():\n",
        "    \"\"\" Return new ants \"\"\"\n",
        "    ant_model = Ant(100)\n",
        "    return ant_model"
      ],
      "metadata": {
        "id": "JeXj1zn49EnD"
      },
      "execution_count": 7,
      "outputs": []
    },
    {
      "cell_type": "code",
      "source": [
        "ant1 = Ant(100)\n",
        "animated = Animation2D(ant1, frames = 1500, figsize=(5, 5))\n",
        "animated.animate(interval=0.3)"
      ],
      "metadata": {
        "colab": {
          "base_uri": "https://localhost:8080/",
          "height": 444
        },
        "id": "ouAllpmnhzUZ",
        "outputId": "4d5ca8ae-4609-484c-c555-b574f1cdf5e0"
      },
      "execution_count": 8,
      "outputs": [
        {
          "output_type": "display_data",
          "data": {
            "text/plain": [
              "<Figure size 500x500 with 1 Axes>"
            ],
            "image/png": "[encoded data removed]"
          },
          "metadata": {}
        }
      ]
    },
    {
      "cell_type": "code",
      "source": [
        "# Ex. 1 your code here...\n",
        "xseries = [100, 400, 700, 1000, 1300, 1600, 1900, 2200]\n",
        "yseries = []\n",
        "\n",
        "\n",
        "for i in xseries:\n",
        "  ants = make_ants()\n",
        "  animated = Animation2D(ants, frames = i, figsize=(5, 5))\n",
        "  yseries.append((timeit(lambda: animated.animate(),  number=3))/3)\n",
        "\n",
        "plt.plot(xseries, yseries)"
      ],
      "metadata": {
        "colab": {
          "base_uri": "https://localhost:8080/",
          "height": 874
        },
        "id": "05LCjm_rzoOQ",
        "outputId": "9d26c7ee-9105-4a25-f46e-1511e0af377e"
      },
      "execution_count": 9,
      "outputs": [
        {
          "output_type": "display_data",
          "data": {
            "text/plain": [
              "<Figure size 500x500 with 1 Axes>"
            ],
            "image/png": "[encoded data removed]"
          },
          "metadata": {}
        },
        {
          "output_type": "execute_result",
          "data": {
            "text/plain": [
              "[<matplotlib.lines.Line2D at 0x79529fea98d0>]"
            ]
          },
          "metadata": {},
          "execution_count": 9
        },
        {
          "output_type": "display_data",
          "data": {
            "text/plain": [
              "<Figure size 640x480 with 1 Axes>"
            ],
            "image/png": "[encoded data removed]"
          },
          "metadata": {}
        }
      ]
    },
    {
      "cell_type": "markdown",
      "source": [
        "The process is linear"
      ],
      "metadata": {
        "id": "FA1QC5E5d9Eb"
      }
    }
  ]
}